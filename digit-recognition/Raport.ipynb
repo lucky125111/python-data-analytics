{
 "cells": [
  {
   "cell_type": "code",
   "execution_count": 191,
   "metadata": {},
   "outputs": [],
   "source": [
    "# import the necessary packages\n",
    "from __future__ import print_function\n",
    "from sklearn.model_selection import train_test_split\n",
    "from sklearn.neighbors import KNeighborsClassifier\n",
    "from sklearn.metrics import confusion_matrix\n",
    "from sklearn.metrics import classification_report\n",
    "from sklearn import datasets\n",
    "from skimage import exposure\n",
    "import numpy as np\n",
    "#import imutils\n",
    "import cv2\n",
    "import matplotlib.pyplot as plt\n",
    "from mlxtend.data import loadlocal_mnist\n",
    "from PIL import Image\n",
    "import random\n",
    "import os\n",
    "from urllib.parse import urlparse\n",
    "import urllib.request\n",
    "import shutil\n",
    "import gzip\n",
    "from pathlib import Path\n",
    "import skimage.morphology\n",
    "from skimage.morphology import closing,skeletonize,dilation\n",
    "from skimage.util import invert\n",
    "import scipy.ndimage\n",
    "from scipy.ndimage import maximum_filter\n",
    "from matplotlib.ticker import PercentFormatter\n",
    "from scipy.spatial.distance import cdist\n",
    "import time\n",
    "\n",
    "project_path = '/Users/lukaszberwid/Digit Recognition Project'"
   ]
  },
  {
   "cell_type": "code",
   "execution_count": null,
   "metadata": {},
   "outputs": [],
   "source": [
    "from sklearn import datasets\n",
    "mnist = datasets.load_digits()"
   ]
  },
  {
   "cell_type": "markdown",
   "metadata": {},
   "source": [
    "The MNIST database of handwritten digits, available from this page, has a training set of 60,000 examples, and a test set of 10,000 examples. It is a subset of a larger set available from NIST. The digits have been size-normalized and centered in a fixed-size image.\n",
    "\n",
    "Each image has size 28x28"
   ]
  },
  {
   "cell_type": "code",
   "execution_count": null,
   "metadata": {},
   "outputs": [],
   "source": [
    "def DownloadData(url):\n",
    "    a = urlparse(url)\n",
    "    filename = os.path.basename(a.path)\n",
    "    filename = os.path.join(project_path, filename)\n",
    "    urllib.request.urlretrieve(url, filename)\n",
    "    Ungz(filename)\n",
    "\n",
    "\n",
    "def Ungz(filename):\n",
    "    res = os.path.join(project_path, Path(filename).stem)\n",
    "    with gzip.open(filename, 'rb') as f_in:\n",
    "        with open(res, 'wb') as f_out:\n",
    "            shutil.copyfileobj(f_in, f_out)\n",
    "                \n",
    "urls = ['http://yann.lecun.com/exdb/mnist/train-images-idx3-ubyte.gz',\n",
    "      'http://yann.lecun.com/exdb/mnist/train-labels-idx1-ubyte.gz',\n",
    "      'http://yann.lecun.com/exdb/mnist/t10k-images-idx3-ubyte.gz',\n",
    "      'http://yann.lecun.com/exdb/mnist/t10k-labels-idx1-ubyte.gz']\n",
    "\n",
    "#for url in urls: \n",
    "#    DownloadData(url)"
   ]
  },
  {
   "cell_type": "code",
   "execution_count": 9,
   "metadata": {},
   "outputs": [],
   "source": [
    "def ValueDistributionHistogram(lab, title):    \n",
    "    y = np.bincount(lab)\n",
    "    plt.hist(x=lab)\n",
    "    plt.axis([min(lab), max(lab), min(y)*0.9, max(y)*1.1])\n",
    "    plt.grid(axis='y', alpha=0.75)\n",
    "    plt.xlabel('Value')\n",
    "    plt.ylabel('Frequency')\n",
    "    plt.title(title)\n",
    "    \n",
    "def SaveValueDistributionHistogram(lab, title, fileName):    \n",
    "    y = np.bincount(lab)\n",
    "    plt.hist(x=lab)\n",
    "    plt.axis([min(lab), max(lab), min(y)*0.9, max(y)*1.1])\n",
    "    plt.grid(axis='y', alpha=0.75)\n",
    "    plt.xlabel('Value')\n",
    "    plt.ylabel('Frequency')\n",
    "    plt.title(title)\n",
    "    path = os.path.join(project_path, fileName)\n",
    "    plt.savefig(path)\n",
    "    \n",
    "def ConvertToMatrix(array, size):\n",
    "    return np.reshape(array, (size, size));\n",
    "    \n",
    "def Show(array, label):\n",
    "    n = 28\n",
    "    plt.imshow(np.reshape(array, (n, n)))\n",
    "    if label:\n",
    "        plt.annotate(label,(25,25),bbox={'facecolor':'white'},fontsize=16)\n",
    "\n",
    "def ShowMatrix(array):\n",
    "    n = 28\n",
    "    w,h = 5,5\n",
    "    fig, axes = plt.subplots(w,h, figsize=(10,10))\n",
    "    for i,ax in enumerate(axes.flat):\n",
    "        ax.imshow(np.reshape(array[i], (n, n)))\n",
    "        \n",
    "def SaveMatrix(array, fileName):\n",
    "    n = 28\n",
    "    w,h = 5,5\n",
    "    fig, axes = plt.subplots(w,h, figsize=(10,10))\n",
    "    for i,ax in enumerate(axes.flat):\n",
    "        ax.imshow(np.reshape(array[i], (n, n)))\n",
    "    path = os.path.join(project_path, fileName)\n",
    "    fig.savefig(path)\n",
    "    "
   ]
  },
  {
   "cell_type": "code",
   "execution_count": 212,
   "metadata": {},
   "outputs": [],
   "source": [
    "trainData, trainLabels = loadlocal_mnist(\n",
    "        images_path=os.path.join(project_path, 'train-images-idx3-ubyte'), \n",
    "        labels_path=os.path.join(project_path, 'train-labels-idx1-ubyte'))\n",
    "\n",
    "testData, testLabels = loadlocal_mnist(\n",
    "        images_path=os.path.join(project_path, 't10k-images-idx3-ubyte'), \n",
    "        labels_path=os.path.join(project_path, 't10k-labels-idx1-ubyte'))"
   ]
  },
  {
   "cell_type": "code",
   "execution_count": 213,
   "metadata": {},
   "outputs": [],
   "source": [
    "#downsize dataset to increase performance, take just 10% percent\n",
    "factor = 0.2\n",
    "(_, trainData, _, trainLabels) = train_test_split(trainData, trainLabels, test_size=factor)\n",
    "(_, testData, _, testLabels) = train_test_split(testData, testLabels, test_size=factor)"
   ]
  },
  {
   "cell_type": "code",
   "execution_count": 96,
   "metadata": {},
   "outputs": [],
   "source": [
    "skeletionize_maximum = []\n",
    "skeletonize_dilation = []\n",
    "threshold = []\n",
    "for i in range(0, len(trainData)):\n",
    "    threshold.append([])\n",
    "    for j in range(0, len(trainData[i])):\n",
    "        if trainData[i][j] > 100:\n",
    "            threshold[i].append(1)\n",
    "        else:\n",
    "            threshold[i].append(0)\n",
    "    matrix = ConvertToMatrix(threshold[i],28)\n",
    "    flt = maximum_filter(matrix, 2)\n",
    "    skeletionize_maximum.append(closing(skeletonize(flt)))\n",
    "    flt = dilation(matrix)\n",
    "    skeletonize_dilation.append(closing(skeletonize(flt)))\n",
    "\n",
    "# ShowMatrix(threshold)\n",
    "# ShowMatrix(skeletonize_dilation)\n",
    "# ShowMatrix(skeletionize_maximum)"
   ]
  },
  {
   "cell_type": "code",
   "execution_count": 97,
   "metadata": {},
   "outputs": [],
   "source": [
    "trainData = [np.array(n).flatten() for n in skeletonize_dilation]\n",
    "# trainData = skeletionize_maximum"
   ]
  },
  {
   "cell_type": "code",
   "execution_count": null,
   "metadata": {},
   "outputs": [],
   "source": [
    "ValueDistributionHistogram(trainLabels, 'Training set distribution \\nTotal number of values:' + str(len(trainLabels)))"
   ]
  },
  {
   "cell_type": "code",
   "execution_count": null,
   "metadata": {},
   "outputs": [],
   "source": [
    "SValueDistributionHistogram(testLabels, 'Test set distribution \\nTotal number of values:' + str(len(testLabels)))"
   ]
  },
  {
   "cell_type": "code",
   "execution_count": 206,
   "metadata": {},
   "outputs": [
    {
     "name": "stdout",
     "output_type": "stream",
     "text": [
      "Training data points: \t10800\n",
      "Validation data points:  1200\n",
      "Testing data points: \t2000\n"
     ]
    }
   ],
   "source": [
    "validation_size = 0.1\n",
    "(trainData, valData, trainLabels, valLabels) = train_test_split(trainData, trainLabels, test_size=validation_size)\n",
    "print(\"Training data points: \\t{}\".format(len(trainLabels)))\n",
    "print(\"Validation data points:  {}\".format(len(valLabels)))\n",
    "print(\"Testing data points: \\t{}\".format(len(testLabels)))"
   ]
  },
  {
   "cell_type": "code",
   "execution_count": 207,
   "metadata": {},
   "outputs": [
    {
     "name": "stdout",
     "output_type": "stream",
     "text": [
      "iter:1 k:1\n",
      "iter:1 k:2\n",
      "iter:1 k:3\n",
      "iter:1 k:4\n",
      "iter:1 k:5\n",
      "iter:1 k:6\n",
      "iter:1 k:7\n",
      "iter:1 k:8\n",
      "iter:1 k:9\n",
      "iter:2 k:1\n",
      "iter:2 k:2\n",
      "iter:2 k:3\n",
      "iter:2 k:4\n",
      "iter:2 k:5\n",
      "iter:2 k:6\n",
      "iter:2 k:7\n",
      "iter:2 k:8\n",
      "iter:2 k:9\n",
      "iter:3 k:1\n",
      "iter:3 k:2\n",
      "iter:3 k:3\n",
      "iter:3 k:4\n",
      "iter:3 k:5\n",
      "iter:3 k:6\n",
      "iter:3 k:7\n",
      "iter:3 k:8\n",
      "iter:3 k:9\n",
      "iter:4 k:1\n",
      "iter:4 k:2\n",
      "iter:4 k:3\n",
      "iter:4 k:4\n",
      "iter:4 k:5\n",
      "iter:4 k:6\n",
      "iter:4 k:7\n",
      "iter:4 k:8\n",
      "iter:4 k:9\n",
      "iter:5 k:1\n",
      "iter:5 k:2\n",
      "iter:5 k:3\n",
      "iter:5 k:4\n",
      "iter:5 k:5\n",
      "iter:5 k:6\n",
      "iter:5 k:7\n",
      "iter:5 k:8\n",
      "iter:5 k:9\n",
      "iter:6 k:1\n",
      "iter:6 k:2\n",
      "iter:6 k:3\n",
      "iter:6 k:4\n",
      "iter:6 k:5\n",
      "iter:6 k:6\n",
      "iter:6 k:7\n",
      "iter:6 k:8\n",
      "iter:6 k:9\n",
      "iter:7 k:1\n",
      "iter:7 k:2\n",
      "iter:7 k:3\n",
      "iter:7 k:4\n",
      "iter:7 k:5\n",
      "iter:7 k:6\n",
      "iter:7 k:7\n",
      "iter:7 k:8\n",
      "iter:7 k:9\n",
      "iter:8 k:1\n",
      "iter:8 k:2\n",
      "iter:8 k:3\n",
      "iter:8 k:4\n",
      "iter:8 k:5\n",
      "iter:8 k:6\n",
      "iter:8 k:7\n",
      "iter:8 k:8\n",
      "iter:8 k:9\n",
      "iter:9 k:1\n",
      "iter:9 k:2\n",
      "iter:9 k:3\n",
      "iter:9 k:4\n",
      "iter:9 k:5\n",
      "iter:9 k:6\n",
      "iter:9 k:7\n",
      "iter:9 k:8\n",
      "iter:9 k:9\n",
      "iter:10 k:1\n",
      "iter:10 k:2\n",
      "iter:10 k:3\n",
      "iter:10 k:4\n",
      "iter:10 k:5\n",
      "iter:10 k:6\n",
      "iter:10 k:7\n",
      "iter:10 k:8\n",
      "iter:10 k:9\n",
      "iter:11 k:1\n",
      "iter:11 k:2\n",
      "iter:11 k:3\n",
      "iter:11 k:4\n",
      "iter:11 k:5\n",
      "iter:11 k:6\n",
      "iter:11 k:7\n",
      "iter:11 k:8\n",
      "iter:11 k:9\n",
      "iter:12 k:1\n",
      "iter:12 k:2\n",
      "iter:12 k:3\n",
      "iter:12 k:4\n",
      "iter:12 k:5\n",
      "iter:12 k:6\n",
      "iter:12 k:7\n",
      "iter:12 k:8\n",
      "iter:12 k:9\n",
      "iter:13 k:1\n",
      "iter:13 k:2\n",
      "iter:13 k:3\n",
      "iter:13 k:4\n",
      "iter:13 k:5\n",
      "iter:13 k:6\n",
      "iter:13 k:7\n",
      "iter:13 k:8\n",
      "iter:13 k:9\n",
      "iter:14 k:1\n",
      "iter:14 k:2\n",
      "iter:14 k:3\n",
      "iter:14 k:4\n",
      "iter:14 k:5\n",
      "iter:14 k:6\n",
      "iter:14 k:7\n",
      "iter:14 k:8\n",
      "iter:14 k:9\n",
      "iter:15 k:1\n",
      "iter:15 k:2\n",
      "iter:15 k:3\n",
      "iter:15 k:4\n",
      "iter:15 k:5\n",
      "iter:15 k:6\n",
      "iter:15 k:7\n",
      "iter:15 k:8\n",
      "iter:15 k:9\n",
      "iter:16 k:1\n",
      "iter:16 k:2\n",
      "iter:16 k:3\n",
      "iter:16 k:4\n",
      "iter:16 k:5\n",
      "iter:16 k:6\n",
      "iter:16 k:7\n",
      "iter:16 k:8\n",
      "iter:16 k:9\n",
      "iter:17 k:1\n",
      "iter:17 k:2\n",
      "iter:17 k:3\n",
      "iter:17 k:4\n",
      "iter:17 k:5\n",
      "iter:17 k:6\n",
      "iter:17 k:7\n",
      "iter:17 k:8\n",
      "iter:17 k:9\n",
      "iter:18 k:1\n",
      "iter:18 k:2\n",
      "iter:18 k:3\n",
      "iter:18 k:4\n",
      "iter:18 k:5\n",
      "iter:18 k:6\n",
      "iter:18 k:7\n",
      "iter:18 k:8\n",
      "iter:18 k:9\n",
      "iter:19 k:1\n",
      "iter:19 k:2\n",
      "iter:19 k:3\n",
      "iter:19 k:4\n",
      "iter:19 k:5\n",
      "iter:19 k:6\n",
      "iter:19 k:7\n",
      "iter:19 k:8\n",
      "iter:19 k:9\n"
     ]
    }
   ],
   "source": [
    "factor = 0.09\n",
    "r = range(1, 20)\n",
    "data_size_score = []\n",
    "x = []\n",
    "ks = []\n",
    "val_size = []\n",
    "val_time = []\n",
    "\n",
    "\n",
    "for i in r:\n",
    "    (trainData, _, trainLabels, _) = train_test_split(trainData, trainLabels, test_size=factor)\n",
    "    scores = []\n",
    "    times = []\n",
    "    st = time.time()\n",
    "    for j in range(1, 10):\n",
    "        knn = KNeighborsClassifier(n_neighbors=j)\n",
    "        knn.fit(trainData, trainLabels)\n",
    "        score = knn.score(testData, testLabels);\n",
    "        scores.append(score)\n",
    "        times.append(time.time() - st)\n",
    "        st = time.time()\n",
    "        print('iter:' + str(i) + ' k:' + str(j))\n",
    "    data_size_score.append(max(scores))\n",
    "    ks.append(np.argmax(scores) + 1)\n",
    "    x.append(len(trainData))\n",
    "    val_size.append(len(valData))\n",
    "    val_time.append(np.mean(times))"
   ]
  },
  {
   "cell_type": "code",
   "execution_count": 209,
   "metadata": {},
   "outputs": [
    {
     "data": {
      "image/png": "[encoded data removed]",
      "text/plain": [
       "<Figure size 1080x576 with 1 Axes>"
      ]
     },
     "metadata": {
      "needs_background": "light"
     },
     "output_type": "display_data"
    }
   ],
   "source": [
    "plt.figure(figsize=(15,8))\n",
    "plt.plot(x, data_size_score, color='green', marker='o', linestyle='dashed', linewidth=2, markersize=12)\n",
    "\n",
    "for i in range(0, 19):\n",
    "    plt.annotate('k=%d' % ks[i], (x[i], data_size_score[i]),fontsize = 16, textcoords='data')\n",
    "    \n",
    "plt.title('Score depending on the data size')\n",
    "# plt.grid(axis='y', alpha=0.75)\n",
    "# plt.xlabel('Value')\n",
    "# plt.ylabel('Frequency')\n",
    "plt.gca().yaxis.set_major_formatter(PercentFormatter(1))\n",
    "path = os.path.join(project_path, 'ScoreSize')\n",
    "plt.savefig(path)"
   ]
  },
  {
   "cell_type": "code",
   "execution_count": 210,
   "metadata": {},
   "outputs": [
    {
     "data": {
      "image/png": "[encoded data removed]",
      "text/plain": [
       "<Figure size 1080x576 with 1 Axes>"
      ]
     },
     "metadata": {
      "needs_background": "light"
     },
     "output_type": "display_data"
    }
   ],
   "source": [
    "plt.figure(figsize=(15,8))\n",
    "plt.plot(val_size, [1.0 * n / 60 for n in val_time], color='green', marker='o', linestyle='dashed', linewidth=2, markersize=12)\n",
    "\n",
    "path = os.path.join(project_path, 'TimeSize')\n",
    "plt.savefig(path)"
   ]
  },
  {
   "cell_type": "code",
   "execution_count": 214,
   "metadata": {},
   "outputs": [
    {
     "name": "stdout",
     "output_type": "stream",
     "text": [
      "EVALUATION ON TESTING DATA\n",
      "              precision    recall  f1-score   support\n",
      "\n",
      "           0       0.97      0.99      0.98       176\n",
      "           1       0.92      1.00      0.96       236\n",
      "           2       0.95      0.96      0.96       211\n",
      "           3       0.93      0.93      0.93       194\n",
      "           4       0.95      0.94      0.95       198\n",
      "           5       0.96      0.95      0.96       198\n",
      "           6       0.98      0.98      0.98       191\n",
      "           7       0.93      0.92      0.93       181\n",
      "           8       0.98      0.91      0.94       200\n",
      "           9       0.94      0.92      0.93       215\n",
      "\n",
      "    accuracy                           0.95      2000\n",
      "   macro avg       0.95      0.95      0.95      2000\n",
      "weighted avg       0.95      0.95      0.95      2000\n",
      "\n"
     ]
    }
   ],
   "source": [
    "model = KNeighborsClassifier(n_neighbors=3)\n",
    "model.fit(trainData, trainLabels)\n",
    "predictions = model.predict(testData)"
   ]
  },
  {
   "cell_type": "code",
   "execution_count": 215,
   "metadata": {},
   "outputs": [
    {
     "name": "stdout",
     "output_type": "stream",
     "text": [
      "Confusion matrix\n",
      "[[175   0   0   0   0   0   1   0   0   0]\n",
      " [  0 235   1   0   0   0   0   0   0   0]\n",
      " [  0   4 202   0   0   0   0   3   2   0]\n",
      " [  0   0   4 181   1   4   0   3   1   0]\n",
      " [  0   2   0   0 187   0   0   0   0   9]\n",
      " [  0   1   0   7   1 188   1   0   0   0]\n",
      " [  1   1   0   0   0   1 188   0   0   0]\n",
      " [  1   9   2   0   1   0   0 167   0   1]\n",
      " [  2   0   2   3   5   2   1   2 181   2]\n",
      " [  2   4   1   3   2   0   1   4   1 197]]\n",
      "\n",
      "Classification report:\n",
      "              precision    recall  f1-score   support\n",
      "\n",
      "           0       0.97      0.99      0.98       176\n",
      "           1       0.92      1.00      0.96       236\n",
      "           2       0.95      0.96      0.96       211\n",
      "           3       0.93      0.93      0.93       194\n",
      "           4       0.95      0.94      0.95       198\n",
      "           5       0.96      0.95      0.96       198\n",
      "           6       0.98      0.98      0.98       191\n",
      "           7       0.93      0.92      0.93       181\n",
      "           8       0.98      0.91      0.94       200\n",
      "           9       0.94      0.92      0.93       215\n",
      "\n",
      "    accuracy                           0.95      2000\n",
      "   macro avg       0.95      0.95      0.95      2000\n",
      "weighted avg       0.95      0.95      0.95      2000\n",
      "\n"
     ]
    }
   ],
   "source": [
    "print (\"Confusion matrix\")\n",
    "print(confusion_matrix(testLabels,predictions))\n",
    "print('\\nClassification report:')\n",
    "print(classification_report(testLabels,predictions))"
   ]
  },
  {
   "cell_type": "code",
   "execution_count": 231,
   "metadata": {},
   "outputs": [
    {
     "name": "stdout",
     "output_type": "stream",
     "text": [
      "[1063 1566 1724  253 1013  868 1669 1684 1609  960  636  425  811  175\n",
      " 1855  208]\n"
     ]
    },
    {
     "data": {
      "image/png": "[encoded data removed]",
      "text/plain": [
       "<Figure size 720x720 with 16 Axes>"
      ]
     },
     "metadata": {
      "needs_background": "light"
     },
     "output_type": "display_data"
    }
   ],
   "source": [
    "fig, axes = plt.subplots(4,4, figsize=(10,10))\n",
    "# for i,ax in enumerate(axes.flat):\n",
    "#     ax.imshow(np.reshape(array[i], (n, n)))\n",
    "\n",
    "tmp = np.random.randint(0, high=len(testLabels), size=(16,))\n",
    "print(tmp)\n",
    "j=0\n",
    "\n",
    "for i, ax in enumerate(axes.flat):\n",
    "    # grab the image and classify it\n",
    "    image = testData[tmp[j]]\n",
    "    prediction = model.predict([image])[0]\n",
    "    imgdata = np.array(image, dtype='float')\n",
    "    pixels = imgdata.reshape((28,28))\n",
    "    ax.imshow(pixels)\n",
    "    ax.annotate(prediction,(3,3),bbox={'facecolor':'white'},fontsize=16)\n",
    "#     print(\"i think tha digit is : {}\".format(prediction))\n",
    "    j += 1\n",
    "    \n",
    "path = os.path.join(project_path, 'Predictions')\n",
    "plt.savefig(path)"
   ]
  },
  {
   "cell_type": "code",
   "execution_count": null,
   "metadata": {},
   "outputs": [],
   "source": []
  }
 ],
 "metadata": {
  "kernelspec": {
   "display_name": "Python 3",
   "language": "python",
   "name": "python3"
  },
  "language_info": {
   "codemirror_mode": {
    "name": "ipython",
    "version": 3
   },
   "file_extension": ".py",
   "mimetype": "text/x-python",
   "name": "python",
   "nbconvert_exporter": "python",
   "pygments_lexer": "ipython3",
   "version": "3.7.6"
  }
 },
 "nbformat": 4,
 "nbformat_minor": 4
}
