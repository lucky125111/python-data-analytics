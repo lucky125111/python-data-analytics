{
 "cells": [
  {
   "cell_type": "code",
   "execution_count": 1,
   "metadata": {},
   "outputs": [],
   "source": [
    "from __future__ import print_function\n",
    "from sklearn.model_selection import train_test_split\n",
    "from sklearn.neighbors import KNeighborsClassifier\n",
    "from sklearn.metrics import classification_report\n",
    "from sklearn import datasets\n",
    "from skimage import exposure\n",
    "import numpy as np\n",
    "import imutils\n",
    "import cv2\n",
    "import scipy\n",
    "import os\n",
    "import matplotlib.pyplot as plt"
   ]
  },
  {
   "cell_type": "code",
   "execution_count": 2,
   "metadata": {},
   "outputs": [],
   "source": [
    "mnist = datasets.load_digits()"
   ]
  },
  {
   "cell_type": "code",
   "execution_count": 3,
   "metadata": {},
   "outputs": [
    {
     "data": {
      "text/plain": [
       "array([ 0.,  0.,  5., 13.,  9.,  1.,  0.,  0.,  0.,  0., 13., 15., 10.,\n",
       "       15.,  5.,  0.,  0.,  3., 15.,  2.,  0., 11.,  8.,  0.,  0.,  4.,\n",
       "       12.,  0.,  0.,  8.,  8.,  0.,  0.,  5.,  8.,  0.,  0.,  9.,  8.,\n",
       "        0.,  0.,  4., 11.,  0.,  1., 12.,  7.,  0.,  0.,  2., 14.,  5.,\n",
       "       10., 12.,  0.,  0.,  0.,  0.,  6., 13., 10.,  0.,  0.,  0.])"
      ]
     },
     "execution_count": 3,
     "metadata": {},
     "output_type": "execute_result"
    }
   ],
   "source": [
    "mnist.data[0]"
   ]
  },
  {
   "cell_type": "code",
   "execution_count": 4,
   "metadata": {},
   "outputs": [],
   "source": [
    "def output_png(image, filename):\n",
    "    out = os.path.join(\"sample-images\", filename+\".png\")\n",
    "    scipy.misc.imsave(out, np.array(image).reshape(8,8))\n",
    "    img = cv2.imread(out)\n",
    "    res = cv2.resize(img, dsize=(256, 256))\n",
    "    scipy.misc.imsave(out, np.array(res))"
   ]
  },
  {
   "cell_type": "code",
   "execution_count": 5,
   "metadata": {},
   "outputs": [],
   "source": [
    "def plot_error(kVal, accuracies):\n",
    "    plt.ylabel('Validation Error', fontsize=14)\n",
    "    plt.xlabel('K', fontsize=14)\n",
    "    plt.plot(list(kVals), accuracies, 'bo--')\n",
    "    figure = plt.gcf()  # get current figure\n",
    "    figure.set_size_inches(13, 7)\n",
    "    plt.clf()"
   ]
  },
  {
   "cell_type": "code",
   "execution_count": 6,
   "metadata": {},
   "outputs": [],
   "source": [
    "output_png(mnist['images'][0], 'test')"
   ]
  },
  {
   "cell_type": "code",
   "execution_count": 39,
   "metadata": {},
   "outputs": [
    {
     "name": "stdout",
     "output_type": "stream",
     "text": [
      "training data points: 942\n",
      "validation data points: 405\n",
      "testing data points: 450\n",
      "k=5 achieved highest accuracy of 98.27% on validation data\n",
      "EVALUATION ON TESTING DATA\n",
      "              precision    recall  f1-score   support\n",
      "\n",
      "           0       1.00      1.00      1.00        37\n",
      "           1       0.96      1.00      0.98        48\n",
      "           2       1.00      0.98      0.99        43\n",
      "           3       0.97      1.00      0.99        39\n",
      "           4       1.00      0.93      0.96        42\n",
      "           5       0.98      0.98      0.98        57\n",
      "           6       0.97      1.00      0.99        37\n",
      "           7       0.92      1.00      0.96        44\n",
      "           8       1.00      0.94      0.97        47\n",
      "           9       0.96      0.95      0.95        56\n",
      "\n",
      "    accuracy                           0.98       450\n",
      "   macro avg       0.98      0.98      0.98       450\n",
      "weighted avg       0.98      0.98      0.98       450\n",
      "\n"
     ]
    }
   ],
   "source": [
    "# load the MNIST digits dataset\n",
    "mnist = datasets.load_digits()\n",
    "\n",
    "#print (mnist.data)\n",
    "\n",
    "# Training and testing split,\n",
    "# 75% for training and 25% for testing\n",
    "(trainData, testData, trainLabels, testLabels) = train_test_split(np.array(mnist.data), mnist.target, test_size=0.25)\n",
    "\n",
    "# take 10% of the training data and use that for validation\n",
    "(trainData, valData, trainLabels, valLabels) = train_test_split(trainData, trainLabels, test_size=0.3)\n",
    "\n",
    "# Checking sizes of each data split\n",
    "print(\"training data points: {}\".format(len(trainLabels)))\n",
    "print(\"validation data points: {}\".format(len(valLabels)))\n",
    "print(\"testing data points: {}\".format(len(testLabels)))\n",
    "\n",
    "\n",
    "# initialize the values of k for our k-Nearest Neighbor classifier along with the\n",
    "# list of accuracies for each value of k\n",
    "kVals = range(1, 30, 2)\n",
    "algorithms = ['auto', 'ball_tree', 'kd_tree', 'brute']\n",
    "metrics = ['euclidean','manhattan','chebyshev','minkowski']\n",
    "    \n",
    "# largest accuracy\n",
    "# np.argmax returns the indices of the maximum values along an axis\n",
    "i = np.argmax(accuracies)\n",
    "print(\"k=%d achieved highest accuracy of %.2f%% on validation data\" % (kVals[i],\n",
    "    accuracies[i] * 100))\n",
    "\n",
    "# Now that I know the best value of k, re-train the classifier\n",
    "model = KNeighborsClassifier(n_neighbors=kVals[i])\n",
    "model.fit(trainData, trainLabels)\n",
    "\n",
    "# Predict labels for the test set\n",
    "predictions = model.predict(testData)\n",
    "\n",
    "# Evaluate performance of model for each of the digits\n",
    "print(\"EVALUATION ON TESTING DATA\")\n",
    "print(classification_report(testLabels, predictions))\n",
    "\n",
    "# some indices are classified correctly 100% of the time (precision = 1)\n",
    "# high accuracy (98%)"
   ]
  },
  {
   "cell_type": "code",
   "execution_count": 38,
   "metadata": {},
   "outputs": [
    {
     "name": "stdout",
     "output_type": "stream",
     "text": [
      "k=1, alg=auto, accuracy=98.02%\n",
      "k=3, alg=auto, accuracy=98.02%\n",
      "k=5, alg=auto, accuracy=98.27%\n",
      "k=7, alg=auto, accuracy=97.53%\n",
      "k=9, alg=auto, accuracy=97.28%\n",
      "k=11, alg=auto, accuracy=97.04%\n",
      "k=13, alg=auto, accuracy=96.54%\n",
      "k=15, alg=auto, accuracy=96.54%\n",
      "k=17, alg=auto, accuracy=96.54%\n",
      "k=19, alg=auto, accuracy=96.54%\n",
      "k=21, alg=auto, accuracy=96.54%\n",
      "k=23, alg=auto, accuracy=96.05%\n",
      "k=25, alg=auto, accuracy=96.05%\n",
      "k=27, alg=auto, accuracy=95.80%\n",
      "k=29, alg=auto, accuracy=95.80%\n",
      "k=1, alg=ball_tree, accuracy=98.02%\n",
      "k=3, alg=ball_tree, accuracy=98.02%\n",
      "k=5, alg=ball_tree, accuracy=98.27%\n",
      "k=7, alg=ball_tree, accuracy=97.28%\n",
      "k=9, alg=ball_tree, accuracy=97.04%\n",
      "k=11, alg=ball_tree, accuracy=97.04%\n",
      "k=13, alg=ball_tree, accuracy=96.54%\n",
      "k=15, alg=ball_tree, accuracy=96.79%\n",
      "k=17, alg=ball_tree, accuracy=96.54%\n",
      "k=19, alg=ball_tree, accuracy=96.54%\n",
      "k=21, alg=ball_tree, accuracy=96.54%\n",
      "k=23, alg=ball_tree, accuracy=96.05%\n",
      "k=25, alg=ball_tree, accuracy=96.05%\n",
      "k=27, alg=ball_tree, accuracy=95.80%\n",
      "k=29, alg=ball_tree, accuracy=95.80%\n",
      "k=1, alg=kd_tree, accuracy=98.02%\n",
      "k=3, alg=kd_tree, accuracy=98.02%\n",
      "k=5, alg=kd_tree, accuracy=98.27%\n",
      "k=7, alg=kd_tree, accuracy=97.53%\n",
      "k=9, alg=kd_tree, accuracy=97.28%\n",
      "k=11, alg=kd_tree, accuracy=97.04%\n",
      "k=13, alg=kd_tree, accuracy=96.54%\n",
      "k=15, alg=kd_tree, accuracy=96.54%\n",
      "k=17, alg=kd_tree, accuracy=96.54%\n",
      "k=19, alg=kd_tree, accuracy=96.54%\n",
      "k=21, alg=kd_tree, accuracy=96.54%\n",
      "k=23, alg=kd_tree, accuracy=96.05%\n",
      "k=25, alg=kd_tree, accuracy=96.05%\n",
      "k=27, alg=kd_tree, accuracy=95.80%\n",
      "k=29, alg=kd_tree, accuracy=95.80%\n",
      "k=1, alg=brute, accuracy=98.02%\n",
      "k=3, alg=brute, accuracy=98.02%\n",
      "k=5, alg=brute, accuracy=98.27%\n",
      "k=7, alg=brute, accuracy=97.28%\n",
      "k=9, alg=brute, accuracy=97.04%\n",
      "k=11, alg=brute, accuracy=97.04%\n",
      "k=13, alg=brute, accuracy=96.54%\n",
      "k=15, alg=brute, accuracy=96.54%\n",
      "k=17, alg=brute, accuracy=96.54%\n",
      "k=19, alg=brute, accuracy=96.54%\n",
      "k=21, alg=brute, accuracy=96.54%\n",
      "k=23, alg=brute, accuracy=96.05%\n",
      "k=25, alg=brute, accuracy=96.05%\n",
      "k=27, alg=brute, accuracy=95.80%\n",
      "k=29, alg=brute, accuracy=95.80%\n"
     ]
    },
    {
     "data": {
      "text/plain": [
       "<matplotlib.figure.Figure at 0x9872f90>"
      ]
     },
     "metadata": {},
     "output_type": "display_data"
    }
   ],
   "source": [
    "# loop over kVals\n",
    "for a in algorithms:\n",
    "    accuracies = []\n",
    "    for k in kVals: \n",
    "        # train the classifier with the current value of `k`\n",
    "        model = KNeighborsClassifier(n_neighbors=k, algorithm=a)\n",
    "        model.fit(trainData, trainLabels)\n",
    "\n",
    "        # evaluate the model and print the accuracies list\n",
    "        score = model.score(valData, valLabels)\n",
    "        print(\"k=%d, alg=%s, accuracy=%.2f%%\" % (k, a, score * 100))\n",
    "        accuracies.append(score)\n",
    "    plot_error(kVals, accuracies)"
   ]
  },
  {
   "cell_type": "code",
   "execution_count": 37,
   "metadata": {},
   "outputs": [
    {
     "name": "stdout",
     "output_type": "stream",
     "text": [
      "k=1, alg=auto, metric=euclidean, accuracy=98.02%\n",
      "k=3, alg=auto, metric=euclidean, accuracy=98.02%\n",
      "k=5, alg=auto, metric=euclidean, accuracy=98.27%\n",
      "k=7, alg=auto, metric=euclidean, accuracy=97.53%\n",
      "k=9, alg=auto, metric=euclidean, accuracy=97.28%\n",
      "k=11, alg=auto, metric=euclidean, accuracy=97.04%\n",
      "k=13, alg=auto, metric=euclidean, accuracy=96.54%\n",
      "k=15, alg=auto, metric=euclidean, accuracy=96.54%\n",
      "k=17, alg=auto, metric=euclidean, accuracy=96.54%\n",
      "k=19, alg=auto, metric=euclidean, accuracy=96.54%\n",
      "k=21, alg=auto, metric=euclidean, accuracy=96.54%\n",
      "k=23, alg=auto, metric=euclidean, accuracy=96.05%\n",
      "k=25, alg=auto, metric=euclidean, accuracy=96.05%\n",
      "k=27, alg=auto, metric=euclidean, accuracy=95.80%\n",
      "k=29, alg=auto, metric=euclidean, accuracy=95.80%\n",
      "k=1, alg=auto, metric=manhattan, accuracy=98.02%\n",
      "k=3, alg=auto, metric=manhattan, accuracy=98.27%\n",
      "k=5, alg=auto, metric=manhattan, accuracy=97.04%\n",
      "k=7, alg=auto, metric=manhattan, accuracy=96.54%\n",
      "k=9, alg=auto, metric=manhattan, accuracy=96.54%\n",
      "k=11, alg=auto, metric=manhattan, accuracy=96.05%\n",
      "k=13, alg=auto, metric=manhattan, accuracy=95.80%\n",
      "k=15, alg=auto, metric=manhattan, accuracy=95.80%\n",
      "k=17, alg=auto, metric=manhattan, accuracy=95.56%\n",
      "k=19, alg=auto, metric=manhattan, accuracy=95.31%\n",
      "k=21, alg=auto, metric=manhattan, accuracy=95.56%\n",
      "k=23, alg=auto, metric=manhattan, accuracy=95.06%\n",
      "k=25, alg=auto, metric=manhattan, accuracy=94.57%\n",
      "k=27, alg=auto, metric=manhattan, accuracy=95.31%\n",
      "k=29, alg=auto, metric=manhattan, accuracy=95.06%\n",
      "k=1, alg=auto, metric=chebyshev, accuracy=96.54%\n",
      "k=3, alg=auto, metric=chebyshev, accuracy=96.30%\n",
      "k=5, alg=auto, metric=chebyshev, accuracy=96.30%\n",
      "k=7, alg=auto, metric=chebyshev, accuracy=95.80%\n",
      "k=9, alg=auto, metric=chebyshev, accuracy=95.56%\n",
      "k=11, alg=auto, metric=chebyshev, accuracy=95.31%\n",
      "k=13, alg=auto, metric=chebyshev, accuracy=95.56%\n",
      "k=15, alg=auto, metric=chebyshev, accuracy=94.81%\n",
      "k=17, alg=auto, metric=chebyshev, accuracy=95.56%\n",
      "k=19, alg=auto, metric=chebyshev, accuracy=94.81%\n",
      "k=21, alg=auto, metric=chebyshev, accuracy=94.32%\n",
      "k=23, alg=auto, metric=chebyshev, accuracy=94.07%\n",
      "k=25, alg=auto, metric=chebyshev, accuracy=93.33%\n",
      "k=27, alg=auto, metric=chebyshev, accuracy=93.09%\n",
      "k=29, alg=auto, metric=chebyshev, accuracy=93.33%\n",
      "k=1, alg=auto, metric=minkowski, accuracy=98.02%\n",
      "k=3, alg=auto, metric=minkowski, accuracy=98.02%\n",
      "k=5, alg=auto, metric=minkowski, accuracy=98.27%\n",
      "k=7, alg=auto, metric=minkowski, accuracy=97.53%\n",
      "k=9, alg=auto, metric=minkowski, accuracy=97.28%\n",
      "k=11, alg=auto, metric=minkowski, accuracy=97.04%\n",
      "k=13, alg=auto, metric=minkowski, accuracy=96.54%\n",
      "k=15, alg=auto, metric=minkowski, accuracy=96.54%\n",
      "k=17, alg=auto, metric=minkowski, accuracy=96.54%\n",
      "k=19, alg=auto, metric=minkowski, accuracy=96.54%\n",
      "k=21, alg=auto, metric=minkowski, accuracy=96.54%\n",
      "k=23, alg=auto, metric=minkowski, accuracy=96.05%\n",
      "k=25, alg=auto, metric=minkowski, accuracy=96.05%\n",
      "k=27, alg=auto, metric=minkowski, accuracy=95.80%\n",
      "k=29, alg=auto, metric=minkowski, accuracy=95.80%\n"
     ]
    },
    {
     "ename": "TypeError",
     "evalue": "__init__() takes exactly 2 positional arguments (1 given)",
     "output_type": "error",
     "traceback": [
      "\u001b[1;31m---------------------------------------------------------------------------\u001b[0m",
      "\u001b[1;31mTypeError\u001b[0m                                 Traceback (most recent call last)",
      "\u001b[1;32m<ipython-input-37-37aa734c9644>\u001b[0m in \u001b[0;36m<module>\u001b[1;34m\u001b[0m\n\u001b[0;32m      3\u001b[0m         \u001b[1;31m# train the classifier with the current value of `k`\u001b[0m\u001b[1;33m\u001b[0m\u001b[1;33m\u001b[0m\u001b[0m\n\u001b[0;32m      4\u001b[0m         \u001b[0mmodel\u001b[0m \u001b[1;33m=\u001b[0m \u001b[0mKNeighborsClassifier\u001b[0m\u001b[1;33m(\u001b[0m\u001b[0mn_neighbors\u001b[0m\u001b[1;33m=\u001b[0m\u001b[0mk\u001b[0m\u001b[1;33m,\u001b[0m \u001b[0mmetric\u001b[0m\u001b[1;33m=\u001b[0m\u001b[0mm\u001b[0m\u001b[1;33m)\u001b[0m\u001b[1;33m\u001b[0m\u001b[0m\n\u001b[1;32m----> 5\u001b[1;33m         \u001b[0mmodel\u001b[0m\u001b[1;33m.\u001b[0m\u001b[0mfit\u001b[0m\u001b[1;33m(\u001b[0m\u001b[0mtrainData\u001b[0m\u001b[1;33m,\u001b[0m \u001b[0mtrainLabels\u001b[0m\u001b[1;33m)\u001b[0m\u001b[1;33m\u001b[0m\u001b[0m\n\u001b[0m\u001b[0;32m      6\u001b[0m \u001b[1;33m\u001b[0m\u001b[0m\n\u001b[0;32m      7\u001b[0m         \u001b[1;31m# evaluate the model and print the accuracies list\u001b[0m\u001b[1;33m\u001b[0m\u001b[1;33m\u001b[0m\u001b[0m\n",
      "\u001b[1;32mc:\\users\\lukasz\\appdata\\local\\programs\\python\\python36-32\\lib\\site-packages\\sklearn\\neighbors\\_base.py\u001b[0m in \u001b[0;36mfit\u001b[1;34m(self, X, y)\u001b[0m\n\u001b[0;32m   1153\u001b[0m             \u001b[0mself\u001b[0m\u001b[1;33m.\u001b[0m\u001b[0m_y\u001b[0m \u001b[1;33m=\u001b[0m \u001b[0mself\u001b[0m\u001b[1;33m.\u001b[0m\u001b[0m_y\u001b[0m\u001b[1;33m.\u001b[0m\u001b[0mravel\u001b[0m\u001b[1;33m(\u001b[0m\u001b[1;33m)\u001b[0m\u001b[1;33m\u001b[0m\u001b[0m\n\u001b[0;32m   1154\u001b[0m \u001b[1;33m\u001b[0m\u001b[0m\n\u001b[1;32m-> 1155\u001b[1;33m         \u001b[1;32mreturn\u001b[0m \u001b[0mself\u001b[0m\u001b[1;33m.\u001b[0m\u001b[0m_fit\u001b[0m\u001b[1;33m(\u001b[0m\u001b[0mX\u001b[0m\u001b[1;33m)\u001b[0m\u001b[1;33m\u001b[0m\u001b[0m\n\u001b[0m\u001b[0;32m   1156\u001b[0m \u001b[1;33m\u001b[0m\u001b[0m\n\u001b[0;32m   1157\u001b[0m \u001b[1;33m\u001b[0m\u001b[0m\n",
      "\u001b[1;32mc:\\users\\lukasz\\appdata\\local\\programs\\python\\python36-32\\lib\\site-packages\\sklearn\\neighbors\\_base.py\u001b[0m in \u001b[0;36m_fit\u001b[1;34m(self, X)\u001b[0m\n\u001b[0;32m    450\u001b[0m             self._tree = BallTree(X, self.leaf_size,\n\u001b[0;32m    451\u001b[0m                                   \u001b[0mmetric\u001b[0m\u001b[1;33m=\u001b[0m\u001b[0mself\u001b[0m\u001b[1;33m.\u001b[0m\u001b[0meffective_metric_\u001b[0m\u001b[1;33m,\u001b[0m\u001b[1;33m\u001b[0m\u001b[0m\n\u001b[1;32m--> 452\u001b[1;33m                                   **self.effective_metric_params_)\n\u001b[0m\u001b[0;32m    453\u001b[0m         \u001b[1;32melif\u001b[0m \u001b[0mself\u001b[0m\u001b[1;33m.\u001b[0m\u001b[0m_fit_method\u001b[0m \u001b[1;33m==\u001b[0m \u001b[1;34m'kd_tree'\u001b[0m\u001b[1;33m:\u001b[0m\u001b[1;33m\u001b[0m\u001b[0m\n\u001b[0;32m    454\u001b[0m             self._tree = KDTree(X, self.leaf_size,\n",
      "\u001b[1;32msklearn\\neighbors\\_binary_tree.pxi\u001b[0m in \u001b[0;36msklearn.neighbors._ball_tree.BinaryTree.__init__\u001b[1;34m()\u001b[0m\n",
      "\u001b[1;32msklearn\\neighbors\\_dist_metrics.pyx\u001b[0m in \u001b[0;36msklearn.neighbors._dist_metrics.DistanceMetric.get_metric\u001b[1;34m()\u001b[0m\n",
      "\u001b[1;32msklearn\\neighbors\\_dist_metrics.pyx\u001b[0m in \u001b[0;36msklearn.neighbors._dist_metrics.WMinkowskiDistance.__init__\u001b[1;34m()\u001b[0m\n",
      "\u001b[1;31mTypeError\u001b[0m: __init__() takes exactly 2 positional arguments (1 given)"
     ]
    }
   ],
   "source": [
    "for m in metrics:\n",
    "    accuracies = []\n",
    "    for k in kVals:\n",
    "        # train the classifier with the current value of `k`\n",
    "        model = KNeighborsClassifier(n_neighbors=k, metric=m)\n",
    "        model.fit(trainData, trainLabels)\n",
    "\n",
    "        # evaluate the model and print the accuracies list\n",
    "        score = model.score(valData, valLabels)\n",
    "        print(\"k=%d, alg=auto, metric=%s, accuracy=%.2f%%\" % (k, m, score * 100))\n",
    "        accuracies.append(score)\n",
    "    plot_error(kVals, accuracies)"
   ]
  },
  {
   "cell_type": "code",
   "execution_count": 19,
   "metadata": {},
   "outputs": [
    {
     "name": "stdout",
     "output_type": "stream",
     "text": [
      "I think that digit is: 8\n",
      "I think that digit is: 0\n",
      "I think that digit is: 0\n",
      "I think that digit is: 0\n",
      "I think that digit is: 1\n"
     ]
    }
   ],
   "source": [
    "# check predictions against images\n",
    "# loop over a few random digits\n",
    "indexes = np.random.randint(0, high=len(testData), size=(5,))\n",
    "images = testData[indexes]\n",
    "prediction = model.predict(images)\n",
    "\n",
    "# convert the image for a 64-dim array to an 8 x 8 image compatible with OpenCV,\n",
    "# then resize it to 32 x 32 pixels for better visualization\n",
    "for i in range(0, len(indexes)):\n",
    "    image = images[i].reshape((8, 8)).astype(\"uint8\")\n",
    "    image = exposure.rescale_intensity(image, out_range=(0, 255))\n",
    "    image = imutils.resize(image, width=32, inter=cv2.INTER_CUBIC)\n",
    "\n",
    "    # show the prediction\n",
    "    print(\"I think that digit is: {}\".format(prediction[i]))\n",
    "    cv2.imshow(\"Image\", image)"
   ]
  },
  {
   "cell_type": "code",
   "execution_count": null,
   "metadata": {},
   "outputs": [],
   "source": []
  }
 ],
 "metadata": {
  "kernelspec": {
   "display_name": "Python 3",
   "language": "python",
   "name": "python3"
  },
  "language_info": {
   "codemirror_mode": {
    "name": "ipython",
    "version": 3
   },
   "file_extension": ".py",
   "mimetype": "text/x-python",
   "name": "python",
   "nbconvert_exporter": "python",
   "pygments_lexer": "ipython3",
   "version": "3.6.1"
  }
 },
 "nbformat": 4,
 "nbformat_minor": 2
}
